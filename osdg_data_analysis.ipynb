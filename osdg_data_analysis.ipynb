{
 "cells": [
  {
   "cell_type": "markdown",
   "source": [
    "# OSDG Community Data Analysis\n",
    "### Installations & Imports"
   ],
   "metadata": {
    "collapsed": false
   }
  },
  {
   "cell_type": "code",
   "execution_count": 13,
   "outputs": [
    {
     "name": "stdout",
     "output_type": "stream",
     "text": [
      "Collecting statsmodels\r\n",
      "  Downloading statsmodels-0.13.5-cp311-cp311-macosx_11_0_arm64.whl (9.2 MB)\r\n",
      "     |████████████████████████████████| 9.2 MB 4.4 MB/s            \r\n",
      "\u001B[?25hCollecting scipy>=1.3\r\n",
      "  Downloading scipy-1.10.1-cp311-cp311-macosx_12_0_arm64.whl (28.7 MB)\r\n",
      "     |████████████████████████████████| 28.7 MB 181.8 MB/s            \r\n",
      "\u001B[?25hCollecting patsy>=0.5.2\r\n",
      "  Downloading patsy-0.5.3-py2.py3-none-any.whl (233 kB)\r\n",
      "     |████████████████████████████████| 233 kB 190.4 MB/s            \r\n",
      "\u001B[?25hCollecting pandas>=0.25\r\n",
      "  Downloading pandas-1.5.3-cp311-cp311-macosx_11_0_arm64.whl (10.8 MB)\r\n",
      "     |████████████████████████████████| 10.8 MB 197.5 MB/s            \r\n",
      "\u001B[?25hRequirement already satisfied: packaging>=21.3 in ./venv/lib/python3.11/site-packages (from statsmodels) (23.0)\r\n",
      "Requirement already satisfied: numpy>=1.17 in ./venv/lib/python3.11/site-packages (from statsmodels) (1.24.2)\r\n",
      "Collecting pytz>=2020.1\r\n",
      "  Downloading pytz-2022.7.1-py2.py3-none-any.whl (499 kB)\r\n",
      "     |████████████████████████████████| 499 kB 142.4 MB/s            \r\n",
      "\u001B[?25hRequirement already satisfied: python-dateutil>=2.8.1 in ./venv/lib/python3.11/site-packages (from pandas>=0.25->statsmodels) (2.8.2)\r\n",
      "Requirement already satisfied: six in ./venv/lib/python3.11/site-packages (from patsy>=0.5.2->statsmodels) (1.16.0)\r\n",
      "Installing collected packages: pytz, scipy, patsy, pandas, statsmodels\r\n",
      "Successfully installed pandas-1.5.3 patsy-0.5.3 pytz-2022.7.1 scipy-1.10.1 statsmodels-0.13.5\r\n",
      "\u001B[33mWARNING: You are using pip version 21.3.1; however, version 23.0.1 is available.\r\n",
      "You should consider upgrading via the '/Users/Jessie/Downloads/UZH/Thesis/zora_classifier/venv/bin/python -m pip install --upgrade pip' command.\u001B[0m\r\n"
     ]
    }
   ],
   "source": [
    "!pip install statsmodels"
   ],
   "metadata": {
    "collapsed": false
   }
  },
  {
   "cell_type": "code",
   "execution_count": 42,
   "outputs": [
    {
     "name": "stdout",
     "output_type": "stream",
     "text": [
      "Collecting matplotlib\r\n",
      "  Downloading matplotlib-3.7.1-cp311-cp311-macosx_11_0_arm64.whl (7.3 MB)\r\n",
      "     |████████████████████████████████| 7.3 MB 4.0 MB/s            \r\n",
      "\u001B[?25hCollecting pillow>=6.2.0\r\n",
      "  Downloading Pillow-9.4.0-cp311-cp311-macosx_11_0_arm64.whl (3.0 MB)\r\n",
      "     |████████████████████████████████| 3.0 MB 127.2 MB/s            \r\n",
      "\u001B[?25hRequirement already satisfied: numpy>=1.20 in ./venv/lib/python3.11/site-packages (from matplotlib) (1.24.2)\r\n",
      "Requirement already satisfied: python-dateutil>=2.7 in ./venv/lib/python3.11/site-packages (from matplotlib) (2.8.2)\r\n",
      "Collecting pyparsing>=2.3.1\r\n",
      "  Using cached pyparsing-3.0.9-py3-none-any.whl (98 kB)\r\n",
      "Collecting cycler>=0.10\r\n",
      "  Using cached cycler-0.11.0-py3-none-any.whl (6.4 kB)\r\n",
      "Collecting kiwisolver>=1.0.1\r\n",
      "  Downloading kiwisolver-1.4.4-cp311-cp311-macosx_11_0_arm64.whl (63 kB)\r\n",
      "     |████████████████████████████████| 63 kB 16.1 MB/s             \r\n",
      "\u001B[?25hCollecting contourpy>=1.0.1\r\n",
      "  Downloading contourpy-1.0.7-cp311-cp311-macosx_11_0_arm64.whl (229 kB)\r\n",
      "     |████████████████████████████████| 229 kB 192.0 MB/s            \r\n",
      "\u001B[?25hCollecting fonttools>=4.22.0\r\n",
      "  Downloading fonttools-4.39.2-py3-none-any.whl (1.0 MB)\r\n",
      "     |████████████████████████████████| 1.0 MB 199.4 MB/s            \r\n",
      "\u001B[?25hRequirement already satisfied: packaging>=20.0 in ./venv/lib/python3.11/site-packages (from matplotlib) (23.0)\r\n",
      "Requirement already satisfied: six>=1.5 in ./venv/lib/python3.11/site-packages (from python-dateutil>=2.7->matplotlib) (1.16.0)\r\n",
      "Installing collected packages: pyparsing, pillow, kiwisolver, fonttools, cycler, contourpy, matplotlib\r\n",
      "Successfully installed contourpy-1.0.7 cycler-0.11.0 fonttools-4.39.2 kiwisolver-1.4.4 matplotlib-3.7.1 pillow-9.4.0 pyparsing-3.0.9\r\n",
      "\u001B[33mWARNING: You are using pip version 21.3.1; however, version 23.0.1 is available.\r\n",
      "You should consider upgrading via the '/Users/Jessie/Downloads/UZH/Thesis/zora_classifier/venv/bin/python -m pip install --upgrade pip' command.\u001B[0m\r\n"
     ]
    }
   ],
   "source": [
    "!pip install matplotlib"
   ],
   "metadata": {
    "collapsed": false
   }
  },
  {
   "cell_type": "code",
   "execution_count": 43,
   "outputs": [],
   "source": [
    "import statsmodels\n",
    "import numpy as np\n",
    "import pandas as pd\n",
    "import matplotlib.pyplot as plt\n",
    "from collections import Counter, OrderedDict"
   ],
   "metadata": {
    "collapsed": false
   }
  },
  {
   "cell_type": "markdown",
   "source": [
    "### Read in data"
   ],
   "metadata": {
    "collapsed": false
   }
  },
  {
   "cell_type": "code",
   "execution_count": 12,
   "outputs": [
    {
     "name": "stdout",
     "output_type": "stream",
     "text": [
      "[['1', '8'], ['2', '1'], ['1', '8'], ['1', '2'], ['2', '2'], ['2', '7'], ['2', '6'], ['0', '3'], ['0', '3'], ['1', '2']]\n"
     ]
    }
   ],
   "source": [
    "data = []\n",
    "\n",
    "with open(\"data/osdg-community-data_unexported.tsv\", \"r\", encoding=\"utf-8\") as f:\n",
    "    for line in f:\n",
    "        line = line.rstrip(\"\\n\")\n",
    "        line = line.split(\"\\t\")\n",
    "        if \"doi\" not in line[0]:\n",
    "            item = [line[4], line [5]]\n",
    "            data.append(item)"
   ],
   "metadata": {
    "collapsed": false
   }
  },
  {
   "cell_type": "markdown",
   "source": [
    "## Calculate IAA?"
   ],
   "metadata": {
    "collapsed": false
   }
  },
  {
   "cell_type": "code",
   "execution_count": 16,
   "outputs": [
    {
     "ename": "AttributeError",
     "evalue": "module 'statsmodels.stats' has no attribute 'inter_rater'",
     "output_type": "error",
     "traceback": [
      "\u001B[0;31m---------------------------------------------------------------------------\u001B[0m",
      "\u001B[0;31mAttributeError\u001B[0m                            Traceback (most recent call last)",
      "Cell \u001B[0;32mIn[16], line 3\u001B[0m\n\u001B[1;32m      1\u001B[0m data_array \u001B[38;5;241m=\u001B[39m np\u001B[38;5;241m.\u001B[39marray(data)\n\u001B[0;32m----> 3\u001B[0m kappa \u001B[38;5;241m=\u001B[39m \u001B[43mstatsmodels\u001B[49m\u001B[38;5;241;43m.\u001B[39;49m\u001B[43mstats\u001B[49m\u001B[38;5;241;43m.\u001B[39;49m\u001B[43minter_rater\u001B[49m\u001B[38;5;241m.\u001B[39mfleiss_kappa(data_array, method\u001B[38;5;241m=\u001B[39m\u001B[38;5;124m'\u001B[39m\u001B[38;5;124mfleiss\u001B[39m\u001B[38;5;124m'\u001B[39m)\n\u001B[1;32m      5\u001B[0m \u001B[38;5;28mprint\u001B[39m(kappa)\n",
      "\u001B[0;31mAttributeError\u001B[0m: module 'statsmodels.stats' has no attribute 'inter_rater'"
     ]
    }
   ],
   "source": [
    "data_array = np.array(data)\n",
    "\n",
    "kappa = statsmodels.stats.inter_rater.fleiss_kappa(data_array, method='fleiss')\n",
    "\n",
    "print(kappa)"
   ],
   "metadata": {
    "collapsed": false
   }
  },
  {
   "cell_type": "markdown",
   "source": [
    "## Take existing IAA measure"
   ],
   "metadata": {
    "collapsed": false
   }
  },
  {
   "cell_type": "code",
   "execution_count": 29,
   "outputs": [
    {
     "name": "stdout",
     "output_type": "stream",
     "text": [
      "28649\n"
     ]
    }
   ],
   "source": [
    "data = []\n",
    "\n",
    "with open(\"data/osdg-community-data_unexported.tsv\", \"r\", encoding=\"utf-8\") as f:\n",
    "    for line in f:\n",
    "        line = line.rstrip(\"\\\"\\n\")\n",
    "        line = line.lstrip(\"\\\"\")\n",
    "        line = line.split(\"\\t\")\n",
    "        if (\"doi\" not in line[0]) and (float(line[-1]) >= 0.5):\n",
    "            data.append(line)\n",
    "\n",
    "print(len(data))"
   ],
   "metadata": {
    "collapsed": false
   }
  },
  {
   "cell_type": "markdown",
   "source": [
    "28,649 abstracts with IAA >= 0.5."
   ],
   "metadata": {
    "collapsed": false
   }
  },
  {
   "cell_type": "markdown",
   "source": [
    "## Calculate distributions"
   ],
   "metadata": {
    "collapsed": false
   }
  },
  {
   "cell_type": "code",
   "execution_count": 36,
   "outputs": [
    {
     "name": "stdout",
     "output_type": "stream",
     "text": [
      "[('\"\"From a gender perspective, Paulgaard points out that the labour markets of the fishing villages have been highly gender-segregated in terms of the existence of \"\"\"\"male jobs\"\"\"\" and \"\"\"\"female jobs\"\"\"\", however, the new business opportunities have led to the male population of the peripheral areas now working in the service industry in former \"\"\"\"female jobs\"\"\"\": \"\"\"\"That boys and girls are doing the same jobs indicates change, because traditional boundaries between women and men\\'s work are being crossed. But the fact that young people are still working represents continuity with the past\"\"\"\" (Paulgaard 2002: 102). When Paulgaard refers to continuity with traditions, she refers to the expectations of young adults to participate in adult culture, thus these fishing villages traditionally have no actual youth culture. As described earlier, Paulgaard (2015) concludes that in some of Norway\\'s peripheral areas school is still \\'foreign\\', a time waster stealing time from young adults who should instead spend their time on what is considered to be \"\"\"\"real\"\"\"\" work.\"\"', 1), ('The average figure also masks large differences across regions in Kazakhstan. The number of annual contacts ranges from 2.0 in Astana to 9.7 in Mangystau, and some parts of the population are likely to have very limited access to primary care. In addition, poor coverage of outpatient prescription medicines limits both the effectiveness (and appeal) of care at PHC level.', 1), ('These findings are consistent with previous work that examined differences in wage inequality across countries (Blau and Khan, 2005, Fournier and Koske, 2012). Returns to education are also found to be an important role in explaining the rise in earnings inequality (see Autor, 2014). In these countries, however, the magnitude of the contribution is quite small. Two types of explanation are commonly proposed in the literature. The first emphasises relative supply and demand for skills: characteristics in lower (net) supply get higher rewards. The second, emphasises the role played by labour market institutions such as minimum wages, the degree of unionisation and the rules governing wage bargaining.', 1), ('Each section states the economic principle, reviews international good practice and discusses the situation in Brazil. Drawing from international experiences, it concludes with sketching some policy recommendations. The use of such data by the OECD is without prejudice to the status of the Golan Heights, East Jerusalem and Israeli settlements in the West Bank under the terms of international law. A first observation is that regardless of the constitutional setting (federal or unitary), in the most advanced systems, water abstraction charges are commonly managed at sub-national levels.', 1), ('The Israel Oceanographic and Limnological Research station monitors the quantity and quality of water along the coastline of the Mediterranean Sea. The Nature and Parks Authority (NPA) monitors water quality in rivers on behalf of the MoEP. Mekorot and local authorities monitor drinking water quality under the supervision of the Ministry of Health. The Ministry of Health monitors effluent quality prior to its use in the agricultural sector.', 1), ('Previous chapters have discussed ways to make food systems more supportive of food security and better nutrition. Nutrition-sensitive food systems can give consumers better options, but ultimately it is consumers who choose what they eat. What consumers choose to eat influences their own nutritional outcomes and sends signals back through the food system - to retailers, processors and producers - that shape both what is produced and how sustainably it is produced.', 1), (\"The “War on Terror” and the Framework of International Law, Helen Duffy, Cambridge: Cambridge University Press, 2005, pp. li, 488.The war on terror poses increasingly intractable challenges for the international legal order. Some commentators query whether the international reaction to 9/11 might have relaxed or transformed well-established legal principles, particularly in the fields of recourse to force and state responsibility. Other scholars opine that international law is adequately suited to address the relatively new and polymorphous threats of terrorism. Regardless of one's stance on the question, it is clear that the current war on terror has generated considerable academic writing, both inside and outside of law, and propelled various legal issues, such as the application of international human rights, international humanitarian law and international criminal law, to the forefront of scholarly inquiry.\", 1), ('The distinction needs to be made between normal risks that are frequent but generate limited damage and catastrophic risks that are rare but have large consequences for individuals or regions. These latter risks should be the main focus of policy actions, keeping in mind the pre-existing policy environment and the whole set of risks affecting the targeted population. Ex ante measures for risk mitigation, in particular income tax smoothing systems for agriculture are also used.', 1), ('Prescription rates appear to be higher where labour force participation is lower. There is also a possible relationship between drug use and disability. This may arise after the definition of disability was extended to include chronic conditions. Krueger (2017(47)) found that around one-fifth of the non-participating prime age males were also regularly taking opioid painkillers.', 1), ('By contrast, the share of working-age households with a working man remained relatively stable (at 76%) over time in most countries (Panel A). Germany, nevertheless, witnessed a significant decline (by about 15 percentage points) in men’s employment participation among households during this period. A. Households with a male worker Panel. In Spain, for instance, in 1995 only 22% (25%) of households had a woman working full-time (full-year), compared to 42% (52%) in the year prior to the crisis. Dutch women are now working more weeks per year, though not more hours per week.', 1)]\n"
     ]
    }
   ],
   "source": [
    "abst_dist = Counter([i[2] for i in data])\n",
    "\n",
    "print(abst_dist.most_common(10))"
   ],
   "metadata": {
    "collapsed": false
   }
  },
  {
   "cell_type": "markdown",
   "source": [
    "All abstracts are unique - each abstract was validated only once for one SDG."
   ],
   "metadata": {
    "collapsed": false
   }
  },
  {
   "cell_type": "markdown",
   "source": [
    "### Per SDG"
   ],
   "metadata": {
    "collapsed": false
   }
  },
  {
   "cell_type": "code",
   "execution_count": 50,
   "outputs": [
    {
     "name": "stdout",
     "output_type": "stream",
     "text": [
      "Counter({'16': 3615, '5': 3401, '4': 2983, '7': 2398, '3': 2187, '6': 1879, '1': 1743, '11': 1616, '13': 1535, '2': 1386, '15': 1113, '8': 1104, '9': 1066, '14': 960, '10': 945, '12': 718})\n"
     ]
    }
   ],
   "source": [
    "# Count abstracts/SDG\n",
    "sdg_dist = Counter([i[3] for i in data])\n",
    "\n",
    "# Convert SDG label strings into integers for easy sorting\n",
    "sdg_dist = {int(k): v for k,v in sdg_dist.items()}\n",
    "sdg_dist = dict(sorted(sdg_dist.items()))"
   ],
   "metadata": {
    "collapsed": false
   }
  },
  {
   "cell_type": "code",
   "execution_count": 71,
   "outputs": [
    {
     "data": {
      "text/plain": "<Figure size 900x500 with 1 Axes>",
      "image/png": "[encoded data removed]"
     },
     "metadata": {},
     "output_type": "display_data"
    }
   ],
   "source": [
    "df = pd.DataFrame(list(sdg_dist.items()), columns=['SDG', 'Num. abstracts'])\n",
    "\n",
    "sdg_graph = df.plot(x='SDG', y='Num. abstracts', kind='bar', rot=0, legend=False, figsize=(9,5))\n",
    "\n",
    "# Label bars with exact y-vals\n",
    "for p in sdg_graph.patches:\n",
    "    sdg_graph.annotate(str(p.get_height()), (p.get_x() + p.get_width() / 2, p.get_height()), ha='center', va='bottom')\n",
    "\n",
    "plt.title('OSDG Community Data: Distribution per SDG', weight='bold')\n",
    "plt.xlabel('SDG', weight='bold')\n",
    "\n",
    "plt.savefig('data/sdg_dist.png', dpi=300, bbox_inches='tight')"
   ],
   "metadata": {
    "collapsed": false
   }
  },
  {
   "cell_type": "markdown",
   "source": [
    "## Write out subset files"
   ],
   "metadata": {
    "collapsed": false
   }
  },
  {
   "cell_type": "markdown",
   "source": [
    "### High IAA"
   ],
   "metadata": {
    "collapsed": false
   }
  },
  {
   "cell_type": "code",
   "execution_count": 72,
   "outputs": [],
   "source": [
    "with open(\"data/osdg-community-data_high_IAA.tsv\", \"w\", encoding=\"utf-8\") as f:\n",
    "    f.write(\"doi\\ttext_id\\ttext\\tsdg\\tlabels_negative\\tlabels_positive\\tagreement\\n\")\n",
    "    for i in data:\n",
    "        f.write(\"\\t\".join(i) + \"\\n\")"
   ],
   "metadata": {
    "collapsed": false
   }
  },
  {
   "cell_type": "markdown",
   "source": [
    "### SDG distribution"
   ],
   "metadata": {
    "collapsed": false
   }
  },
  {
   "cell_type": "code",
   "execution_count": null,
   "outputs": [],
   "source": [],
   "metadata": {
    "collapsed": false
   }
  }
 ],
 "metadata": {
  "kernelspec": {
   "display_name": "Python 3",
   "language": "python",
   "name": "python3"
  },
  "language_info": {
   "codemirror_mode": {
    "name": "ipython",
    "version": 2
   },
   "file_extension": ".py",
   "mimetype": "text/x-python",
   "name": "python",
   "nbconvert_exporter": "python",
   "pygments_lexer": "ipython2",
   "version": "2.7.6"
  }
 },
 "nbformat": 4,
 "nbformat_minor": 0
}
